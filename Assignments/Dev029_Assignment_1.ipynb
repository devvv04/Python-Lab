{
  "nbformat": 4,
  "nbformat_minor": 0,
  "metadata": {
    "colab": {
      "provenance": []
    },
    "kernelspec": {
      "name": "python3",
      "display_name": "Python 3"
    },
    "language_info": {
      "name": "python"
    }
  },
  "cells": [
    {
      "cell_type": "markdown",
      "source": [
        " **Question 1 : Basic if - else with list element**"
      ],
      "metadata": {
        "id": "jx8owMtPz-vI"
      }
    },
    {
      "cell_type": "code",
      "execution_count": null,
      "metadata": {
        "colab": {
          "base_uri": "https://localhost:8080/"
        },
        "id": "BcK46Ds7z0Ej",
        "outputId": "2a0127d7-b999-498c-8568-fad47d9381c4"
      },
      "outputs": [
        {
          "output_type": "stream",
          "name": "stdout",
          "text": [
            "First element is small\n"
          ]
        }
      ],
      "source": [
        "numbers = [10,20,30,40]\n",
        "if(numbers[0]>25):\n",
        "    print(\"First element is large\")\n",
        "else:\n",
        "    print(\"First element is small\")"
      ]
    },
    {
      "cell_type": "markdown",
      "source": [
        "**Question 2 : Modify list based on condition**"
      ],
      "metadata": {
        "id": "gVoRXByZ0J5K"
      }
    },
    {
      "cell_type": "code",
      "source": [
        "scores = [45,67,89,92,54,31]\n",
        "new_score =[]\n",
        "for score in scores:\n",
        "    if score >= 50:\n",
        "        new_score.append(\"Pass\")\n",
        "    else:\n",
        "        new_score.append(\"Fail\")\n",
        "print(new_score)"
      ],
      "metadata": {
        "colab": {
          "base_uri": "https://localhost:8080/"
        },
        "id": "zg32Bv6b0ST_",
        "outputId": "18ee3fd3-5f43-4168-9a65-ba91455da6cc"
      },
      "execution_count": null,
      "outputs": [
        {
          "output_type": "stream",
          "name": "stdout",
          "text": [
            "['Fail', 'Pass', 'Pass', 'Pass', 'Pass', 'Fail']\n"
          ]
        }
      ]
    },
    {
      "cell_type": "markdown",
      "source": [
        "**Question 3 : Check for an Item in a List (Membership Test)**"
      ],
      "metadata": {
        "id": "eL7pZeeE1dVn"
      }
    },
    {
      "cell_type": "code",
      "source": [
        "fruits = ['apple','banana','mango','grape']\n",
        "a = input(\"Enter your favorite fruit : \").lower()\n",
        "if a in fruits:\n",
        "  print(f\"{a} is in the list\")\n",
        "else:\n",
        "  print(f\"{a} is not in the list\")"
      ],
      "metadata": {
        "colab": {
          "base_uri": "https://localhost:8080/"
        },
        "id": "Rl28U8B-2QYu",
        "outputId": "ec046813-8635-4871-9401-5dfeceab4fd3"
      },
      "execution_count": null,
      "outputs": [
        {
          "output_type": "stream",
          "name": "stdout",
          "text": [
            "Enter your favorite fruit : peach\n",
            "peach is not in the list\n",
            "Enter your favorite fruit : mango\n",
            "mango is in the list\n"
          ]
        }
      ]
    },
    {
      "cell_type": "markdown",
      "source": [
        "**Question 4 : Conditional Sum of List Elements**"
      ],
      "metadata": {
        "id": "BhC34gNp4qMm"
      }
    },
    {
      "cell_type": "code",
      "source": [
        "values = [1,-2,3,-4,5,6]\n",
        "sum = 0\n",
        "for value in values:\n",
        "    if value % 2 == 0:\n",
        "        sum = sum + value\n",
        "print(sum)"
      ],
      "metadata": {
        "colab": {
          "base_uri": "https://localhost:8080/"
        },
        "id": "JZpkhHVq4yWW",
        "outputId": "86dab0b6-8119-4369-c90c-feea5206981d"
      },
      "execution_count": null,
      "outputs": [
        {
          "output_type": "stream",
          "name": "stdout",
          "text": [
            "0\n"
          ]
        }
      ]
    },
    {
      "cell_type": "markdown",
      "source": [
        "**Question 5 : Find maximum with condition**"
      ],
      "metadata": {
        "id": "rOrLFyRp5WtF"
      }
    },
    {
      "cell_type": "code",
      "source": [
        "data = [120,330,40,550,60,490,502,450]\n",
        "new = [value for value in data if value < 500]\n",
        "if new:\n",
        "  print(max(new))\n",
        "else:\n",
        "  print(\"No valid number found\")\n"
      ],
      "metadata": {
        "id": "Tms7pMT45kLF",
        "colab": {
          "base_uri": "https://localhost:8080/"
        },
        "outputId": "f12a7b2e-98ff-4860-df09-1f775ba36c6b"
      },
      "execution_count": 5,
      "outputs": [
        {
          "output_type": "stream",
          "name": "stdout",
          "text": [
            "490\n"
          ]
        }
      ]
    },
    {
      "cell_type": "markdown",
      "source": [
        "**Question 6: Categorize List Elements**"
      ],
      "metadata": {
        "id": "MKdKPt-_dz9S"
      }
    },
    {
      "cell_type": "code",
      "source": [
        "mixed = [12, 'hello', 33, 'world', 7.5, 100]\n",
        "integer = []\n",
        "string = []\n",
        "\n",
        "for val in mixed:\n",
        "    if type(val) == int:\n",
        "        integer.append(val)\n",
        "    elif type(val) == str:\n",
        "        string.append(val)\n",
        "\n",
        "print(integer)\n",
        "print(string)\n"
      ],
      "metadata": {
        "colab": {
          "base_uri": "https://localhost:8080/"
        },
        "id": "Qhvwbum1d5sq",
        "outputId": "adcbe3a6-c626-453a-c311-d962a9dd576f"
      },
      "execution_count": 13,
      "outputs": [
        {
          "output_type": "stream",
          "name": "stdout",
          "text": [
            "[12, 33, 100]\n",
            "['hello', 'world']\n"
          ]
        }
      ]
    },
    {
      "cell_type": "markdown",
      "source": [
        "**Question 7: Nested If with List Index**"
      ],
      "metadata": {
        "id": "XD8pIJ-ld8-V"
      }
    },
    {
      "cell_type": "code",
      "source": [
        "my_list = [10, 20, 35, 40, 50]\n",
        "abc = int(input(\"Enter an index: \"))\n",
        "if 0<= abc <= len(my_list):\n",
        "    if my_list[abc] % 2 == 0 :\n",
        "      print(\"valid index,even number\")\n",
        "    else:\n",
        "      print(\"valid index,odd number\")\n",
        "else:\n",
        "  print(\"invalid index\")"
      ],
      "metadata": {
        "colab": {
          "base_uri": "https://localhost:8080/"
        },
        "id": "SWHnxWQgePcO",
        "outputId": "f652100f-066c-49cc-8335-952038584b88"
      },
      "execution_count": 19,
      "outputs": [
        {
          "output_type": "stream",
          "name": "stdout",
          "text": [
            "Enter an index: 2\n",
            "valid index,odd number\n"
          ]
        }
      ]
    },
    {
      "cell_type": "markdown",
      "source": [
        "**Question 8: Remove Elements Meeting a Condition**"
      ],
      "metadata": {
        "id": "JkCbhg_1gtT4"
      }
    },
    {
      "cell_type": "code",
      "source": [
        "temperatures = [25, 30, 105, 28, 16, -5, 99]\n",
        "new_temp = []\n",
        "for temp in temperatures:\n",
        "  if 0<= temp <= 100:\n",
        "    new_temp.append(temp)\n",
        "print(new_temp)"
      ],
      "metadata": {
        "colab": {
          "base_uri": "https://localhost:8080/"
        },
        "id": "pX1o6Jbog1tK",
        "outputId": "218289ee-8f9b-4f99-a413-959776e45608"
      },
      "execution_count": 22,
      "outputs": [
        {
          "output_type": "stream",
          "name": "stdout",
          "text": [
            "[25, 30, 28, 16, 99]\n"
          ]
        }
      ]
    },
    {
      "cell_type": "markdown",
      "source": [
        "**Question 9: Simple List Search**"
      ],
      "metadata": {
        "id": "AhP_mV_-hZKj"
      }
    },
    {
      "cell_type": "code",
      "source": [
        "names = ['Alice', 'Bob', 'Charlie', 'Diana']\n",
        "user = input(\"Enter a name: \")\n",
        "for i in names:\n",
        "  if i.lower() == user:\n",
        "    print(f\"{user} found at index {names.index(i)}\")\n",
        "    break\n",
        "else:\n",
        "  print(f\"{user} not found in the list\")"
      ],
      "metadata": {
        "colab": {
          "base_uri": "https://localhost:8080/"
        },
        "id": "ZoAbSOWKhdLY",
        "outputId": "a0adece6-f9d8-4122-df50-47a0b86d6786"
      },
      "execution_count": 27,
      "outputs": [
        {
          "output_type": "stream",
          "name": "stdout",
          "text": [
            "Enter a name: dev\n",
            "dev not found in the list\n",
            "Enter a name: bob\n",
            "bob found at index 1\n"
          ]
        }
      ]
    },
    {
      "cell_type": "markdown",
      "source": [
        "**Question 10: Combined Condition on Multiple List Properties**"
      ],
      "metadata": {
        "id": "aDS-_A-ti5Jq"
      }
    },
    {
      "cell_type": "code",
      "source": [
        "numbers = [15, 7, 22, 9, 36, 12, 18]\n",
        "new = []\n",
        "for num in numbers:\n",
        "  if num > 10 and num % 3 ==0:\n",
        "    new.append(num)\n",
        "print(new)"
      ],
      "metadata": {
        "colab": {
          "base_uri": "https://localhost:8080/"
        },
        "id": "HZ7P87pTjBxS",
        "outputId": "7094bb56-1930-45c8-ad8d-d1e851bb93d7"
      },
      "execution_count": 29,
      "outputs": [
        {
          "output_type": "stream",
          "name": "stdout",
          "text": [
            "[15, 36, 12, 18]\n"
          ]
        }
      ]
    }
  ]
}
