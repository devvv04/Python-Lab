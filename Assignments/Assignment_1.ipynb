{
  "nbformat": 4,
  "nbformat_minor": 0,
  "metadata": {
    "colab": {
      "provenance": []
    },
    "kernelspec": {
      "name": "python3",
      "display_name": "Python 3"
    },
    "language_info": {
      "name": "python"
    }
  },
  "cells": [
    {
      "cell_type": "markdown",
      "source": [
        " **Question 1 : Basic if - else with list element**"
      ],
      "metadata": {
        "id": "jx8owMtPz-vI"
      }
    },
    {
      "cell_type": "code",
      "execution_count": 1,
      "metadata": {
        "colab": {
          "base_uri": "https://localhost:8080/"
        },
        "id": "BcK46Ds7z0Ej",
        "outputId": "2a0127d7-b999-498c-8568-fad47d9381c4"
      },
      "outputs": [
        {
          "output_type": "stream",
          "name": "stdout",
          "text": [
            "First element is small\n"
          ]
        }
      ],
      "source": [
        "numbers = [10,20,30,40]\n",
        "if(numbers[0]>25):\n",
        "    print(\"First element is large\")\n",
        "else:\n",
        "    print(\"First element is small\")"
      ]
    },
    {
      "cell_type": "markdown",
      "source": [
        "**Question 2 : Modify list based on condition**"
      ],
      "metadata": {
        "id": "gVoRXByZ0J5K"
      }
    },
    {
      "cell_type": "code",
      "source": [
        "scores = [45,67,89,92,54,31]\n",
        "new_score =[]\n",
        "for score in scores:\n",
        "    if score >= 50:\n",
        "        new_score.append(\"Pass\")\n",
        "    else:\n",
        "        new_score.append(\"Fail\")\n",
        "print(new_score)"
      ],
      "metadata": {
        "colab": {
          "base_uri": "https://localhost:8080/"
        },
        "id": "zg32Bv6b0ST_",
        "outputId": "18ee3fd3-5f43-4168-9a65-ba91455da6cc"
      },
      "execution_count": 3,
      "outputs": [
        {
          "output_type": "stream",
          "name": "stdout",
          "text": [
            "['Fail', 'Pass', 'Pass', 'Pass', 'Pass', 'Fail']\n"
          ]
        }
      ]
    },
    {
      "cell_type": "markdown",
      "source": [
        "**Question 3 : Check for an Item in a List (Membership Test)**"
      ],
      "metadata": {
        "id": "eL7pZeeE1dVn"
      }
    },
    {
      "cell_type": "code",
      "source": [
        "fruits = ['apple','banana','mango','grape']\n",
        "a = input(\"Enter your favorite fruit : \").lower()\n",
        "if a in fruits:\n",
        "  print(f\"{a} is in the list\")\n",
        "else:\n",
        "  print(f\"{a} is not in the list\")"
      ],
      "metadata": {
        "colab": {
          "base_uri": "https://localhost:8080/"
        },
        "id": "Rl28U8B-2QYu",
        "outputId": "ec046813-8635-4871-9401-5dfeceab4fd3"
      },
      "execution_count": 7,
      "outputs": [
        {
          "output_type": "stream",
          "name": "stdout",
          "text": [
            "Enter your favorite fruit : peach\n",
            "peach is not in the list\n",
            "Enter your favorite fruit : mango\n",
            "mango is in the list\n"
          ]
        }
      ]
    },
    {
      "cell_type": "markdown",
      "source": [
        "**Question 4 : Conditional Sum of List Elements**"
      ],
      "metadata": {
        "id": "BhC34gNp4qMm"
      }
    },
    {
      "cell_type": "code",
      "source": [
        "values = [1,-2,3,-4,5,6]\n",
        "sum = 0\n",
        "for value in values:\n",
        "    if value % 2 == 0:\n",
        "        sum = sum + value\n",
        "print(sum)"
      ],
      "metadata": {
        "colab": {
          "base_uri": "https://localhost:8080/"
        },
        "id": "JZpkhHVq4yWW",
        "outputId": "86dab0b6-8119-4369-c90c-feea5206981d"
      },
      "execution_count": 8,
      "outputs": [
        {
          "output_type": "stream",
          "name": "stdout",
          "text": [
            "0\n"
          ]
        }
      ]
    },
    {
      "cell_type": "markdown",
      "source": [
        "**Question 5 : Find maximum with condition : You have a list data = [120, 330, 40, 550, 60]. Find the largest number in the list that is less than 500. Print the number. If no number is found, print \"No valid number found\".**"
      ],
      "metadata": {
        "id": "rOrLFyRp5WtF"
      }
    },
    {
      "cell_type": "code",
      "source": [
        "data = [120,330,40,550,60]\n",
        "for value in data:\n",
        ""
      ],
      "metadata": {
        "id": "Tms7pMT45kLF"
      },
      "execution_count": null,
      "outputs": []
    }
  ]
}