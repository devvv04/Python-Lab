{
  "nbformat": 4,
  "nbformat_minor": 0,
  "metadata": {
    "colab": {
      "provenance": []
    },
    "kernelspec": {
      "name": "python3",
      "display_name": "Python 3"
    },
    "language_info": {
      "name": "python"
    }
  },
  "cells": [
    {
      "cell_type": "markdown",
      "source": [
        "**Calculate area of circle**"
      ],
      "metadata": {
        "id": "bDch_VJCpniy"
      }
    },
    {
      "cell_type": "code",
      "execution_count": 1,
      "metadata": {
        "colab": {
          "base_uri": "https://localhost:8080/"
        },
        "id": "hTJneIXaoO4_",
        "outputId": "19a79c0c-691d-405d-a655-d2b334e8cc06"
      },
      "outputs": [
        {
          "output_type": "stream",
          "name": "stdout",
          "text": [
            "Enter radius of circle: 4\n",
            "Area of circle is:  50.24\n"
          ]
        }
      ],
      "source": [
        "pi = 3.14\n",
        "r = int(input(\"Enter radius of circle: \"))\n",
        "area = pi * r * r\n",
        "print(\"Area of circle is: \", area)"
      ]
    },
    {
      "cell_type": "markdown",
      "source": [
        "**Convert Temp from F to C**"
      ],
      "metadata": {
        "id": "pkoDURisqFjr"
      }
    },
    {
      "cell_type": "code",
      "source": [
        "f= int(input(\"Enter temp in F: \"))\n",
        "c = (f-32)*5/9\n",
        "print(\"Temp in C is: \", c)"
      ],
      "metadata": {
        "colab": {
          "base_uri": "https://localhost:8080/"
        },
        "id": "BuS41WPVqJZi",
        "outputId": "dec5b932-4a34-47aa-e4e0-395d65a8f23a"
      },
      "execution_count": 2,
      "outputs": [
        {
          "output_type": "stream",
          "name": "stdout",
          "text": [
            "Enter temp in F: 456\n",
            "Temp in C is:  235.55555555555554\n"
          ]
        }
      ]
    },
    {
      "cell_type": "markdown",
      "source": [
        "**Calculate simple interest and compound interest**"
      ],
      "metadata": {
        "id": "foJCPrmcqUa6"
      }
    },
    {
      "cell_type": "code",
      "source": [
        "p = int(input(\"Enter principal amount: \"))\n",
        "r = int(input(\"Enter rate of interest: \"))\n",
        "t = int(input(\"Enter time: \"))\n",
        "si = (p*r*t)/100\n",
        "print(\"Simple interest is: \", si)\n",
        "ci = p*(1+r/100)**t - p\n",
        "print(\"Compound interest is: \", ci)"
      ],
      "metadata": {
        "colab": {
          "base_uri": "https://localhost:8080/"
        },
        "id": "AGQWoWwpqbSj",
        "outputId": "36fb4809-7cbe-48e5-a626-0a9ea72567e2"
      },
      "execution_count": 4,
      "outputs": [
        {
          "output_type": "stream",
          "name": "stdout",
          "text": [
            "Enter principal amount: 20000\n",
            "Enter rate of interest: 5\n",
            "Enter time: 2\n",
            "Simple interest is:  2000.0\n",
            "Compound interest is:  2050.0\n"
          ]
        }
      ]
    },
    {
      "cell_type": "markdown",
      "source": [
        "**Print ones digit number of a input**"
      ],
      "metadata": {
        "id": "Lu2uPa2_q8Fr"
      }
    },
    {
      "cell_type": "code",
      "source": [
        "num =  int(input(\"Enter a number: \"))\n",
        "d = num%10\n",
        "print(\"Ones digit is: \", d)\n"
      ],
      "metadata": {
        "colab": {
          "base_uri": "https://localhost:8080/"
        },
        "id": "NdOrflaGrj7T",
        "outputId": "449b2da0-28af-4e36-879c-85e000676486"
      },
      "execution_count": 5,
      "outputs": [
        {
          "output_type": "stream",
          "name": "stdout",
          "text": [
            "Enter a number: 2346\n",
            "Ones digit is:  6\n"
          ]
        }
      ]
    },
    {
      "cell_type": "markdown",
      "source": [
        "**Calculate average of two numbers**"
      ],
      "metadata": {
        "id": "D0KNdgYUr87r"
      }
    },
    {
      "cell_type": "code",
      "source": [
        "a = int(input(\"Enter first number: \"))\n",
        "b = int(input(\"Enter second number: \"))\n",
        "avg = (a+b)/2\n",
        "print(\"Average is: \", avg)"
      ],
      "metadata": {
        "colab": {
          "base_uri": "https://localhost:8080/"
        },
        "id": "6A8PBB2-sEWj",
        "outputId": "c04fdf79-128f-46cd-cb2b-12e394df01bc"
      },
      "execution_count": 6,
      "outputs": [
        {
          "output_type": "stream",
          "name": "stdout",
          "text": [
            "Enter first number: 45\n",
            "Enter second number: 65\n",
            "Average is:  55.0\n"
          ]
        }
      ]
    },
    {
      "cell_type": "markdown",
      "source": [
        "**student result**"
      ],
      "metadata": {
        "id": "B38fcRDCsrnb"
      }
    },
    {
      "cell_type": "code",
      "source": [
        "a = int(input(\"Enter marks of first academic subject out of hundred: \"))\n",
        "b = int(input(\"Enter marks of second academic subject out of hundred: \"))\n",
        "c = int(input(\"Enter marks of first activity subject out of hundred: \"))\n",
        "d = int(input(\"Enter marks of second activity subject out of hundred: \"))\n",
        "e = int(input(\"Enter marks of third activity subject out of hundred: \"))\n",
        "f = int(input(\"Enter marks of first sport subject out of hundred: \"))\n",
        "\n"
      ],
      "metadata": {
        "id": "RBeti2BVsvwj"
      },
      "execution_count": null,
      "outputs": []
    }
  ]
}